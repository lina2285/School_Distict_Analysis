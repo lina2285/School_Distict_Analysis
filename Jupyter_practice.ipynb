{
 "cells": [
  {
   "cell_type": "code",
   "execution_count": 2,
   "id": "3e327518",
   "metadata": {},
   "outputs": [],
   "source": [
    "# List of hight schools\n",
    "high_schools = [\"Hernandez High School\", \"Figueroa High School\",\"Wilson High School\",\"Wright High School\"]"
   ]
  },
  {
   "cell_type": "code",
   "execution_count": 4,
   "id": "bf478b1f",
   "metadata": {
    "scrolled": true
   },
   "outputs": [
    {
     "name": "stdout",
     "output_type": "stream",
     "text": [
      "Hernandez High School\n",
      "Figueroa High School\n",
      "Wilson High School\n",
      "Wright High School\n"
     ]
    }
   ],
   "source": [
    "for school in high_schools:\n",
    "    print(school)"
   ]
  },
  {
   "cell_type": "code",
   "execution_count": 17,
   "id": "dbaec100",
   "metadata": {},
   "outputs": [],
   "source": [
    "# A dictionary of high schools and the type of school.\n",
    "high_school_types = [{\"High School\": \"Griffin\", \"Type\":\"District\"},\n",
    "                     {\"High School\": \"Figueroa\", \"Type\":\"District\"},\n",
    "                     {\"High School\": \"Wilson\", \"Type\":\"Charter\"},\n",
    "                     {\"High School\": \"Wright\", \"Type\":\"Charter\"}]  \n"
   ]
  },
  {
   "cell_type": "code",
   "execution_count": 20,
   "id": "be734ea5",
   "metadata": {},
   "outputs": [
    {
     "name": "stdout",
     "output_type": "stream",
     "text": [
      "Griffin District\n",
      "Figueroa District\n",
      "Wilson Charter\n",
      "Wright Charter\n"
     ]
    }
   ],
   "source": [
    "# creating a for loop to list the data in the dicionary\n",
    "\n",
    "dict = high_school_types\n",
    "\n",
    "for dic in high_school_types:\n",
    "    print(dic['High School'],dic['Type'])"
   ]
  },
  {
   "cell_type": "code",
   "execution_count": null,
   "id": "9e671289",
   "metadata": {},
   "outputs": [],
   "source": []
  }
 ],
 "metadata": {
  "kernelspec": {
   "display_name": "PythonData",
   "language": "python",
   "name": "pythondata"
  },
  "language_info": {
   "codemirror_mode": {
    "name": "ipython",
    "version": 3
   },
   "file_extension": ".py",
   "mimetype": "text/x-python",
   "name": "python",
   "nbconvert_exporter": "python",
   "pygments_lexer": "ipython3",
   "version": "3.7.13"
  }
 },
 "nbformat": 4,
 "nbformat_minor": 5
}
